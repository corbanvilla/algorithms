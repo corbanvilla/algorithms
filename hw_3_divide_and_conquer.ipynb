{
 "cells": [
  {
   "cell_type": "code",
   "execution_count": 72,
   "id": "5e229d43-6696-450a-9696-b586b393d877",
   "metadata": {},
   "outputs": [],
   "source": [
    "%matplotlib inline\n",
    "\n",
    "import matplotlib.pyplot as plt"
   ]
  },
  {
   "cell_type": "code",
   "execution_count": 61,
   "id": "0e8c96e9-7aec-4375-bc63-a0ec2dde27a1",
   "metadata": {},
   "outputs": [],
   "source": [
    "from numpy.polynomial import Polynomial as P"
   ]
  },
  {
   "cell_type": "code",
   "execution_count": 67,
   "id": "94d867b5-d0fd-4351-a7f6-e7469872ba86",
   "metadata": {},
   "outputs": [],
   "source": [
    "from scipy.optimize import fsolve"
   ]
  },
  {
   "cell_type": "code",
   "execution_count": 71,
   "id": "80e40bef-0ea4-4f5a-ac7f-20984528fd4d",
   "metadata": {},
   "outputs": [],
   "source": [
    "from sympy import Point, Line"
   ]
  },
  {
   "cell_type": "code",
   "execution_count": 78,
   "id": "bc26a411-13e0-4b51-a7bc-27742f786c08",
   "metadata": {},
   "outputs": [],
   "source": [
    "from sympy.plotting import plot "
   ]
  },
  {
   "cell_type": "markdown",
   "id": "311e90f6-adf7-48fb-aec8-5b84bbece65d",
   "metadata": {
    "tags": []
   },
   "source": [
    "# Majority Element: Credit Card Problem"
   ]
  },
  {
   "cell_type": "code",
   "execution_count": 51,
   "id": "912de881-0f65-432c-ad95-ec28b522fa67",
   "metadata": {},
   "outputs": [],
   "source": [
    "class Card:\n",
    "    account: int\n",
    "    \n",
    "    def __init__(self, account: int):\n",
    "        self.account = account\n",
    "        \n",
    "    def __repr__(self):\n",
    "        return str(f'Card(account={self.account})')\n",
    "    \n",
    "    def __str__(self):\n",
    "        return str(f'Card(account={self.account})')"
   ]
  },
  {
   "cell_type": "code",
   "execution_count": 4,
   "id": "9448728b-d920-4631-8c99-9781f600b034",
   "metadata": {},
   "outputs": [],
   "source": [
    "# compare elements O(1)\n",
    "def compare_elements(e1: Card, e2: Card) -> bool:\n",
    "    return (e1.account == e2.account)"
   ]
  },
  {
   "cell_type": "code",
   "execution_count": 59,
   "id": "7c723397-9996-405e-8846-771e37d91ac5",
   "metadata": {},
   "outputs": [],
   "source": [
    "# O(n) count matches\n",
    "def count_matches(e1: Card, cards: list) -> int:\n",
    "    count = 0\n",
    "    for card in cards:\n",
    "        if compare_elements(card, e1): count+=1\n",
    "    return count"
   ]
  },
  {
   "cell_type": "code",
   "execution_count": 84,
   "id": "5322e932-4913-478d-ab99-dafb84ff9ec6",
   "metadata": {},
   "outputs": [
    {
     "name": "stdout",
     "output_type": "stream",
     "text": [
      "100\n"
     ]
    }
   ],
   "source": [
    "cards = []\n",
    "# gen some cards\n",
    "[cards.append(Card(account=1)) for _ in range(0, 49)]\n",
    "[cards.append(Card(account=2)) for _ in range(49, 100)]\n",
    "\n",
    "# compare_elements(c1, c2)\n",
    "print(len(cards))"
   ]
  },
  {
   "cell_type": "code",
   "execution_count": 85,
   "id": "9a799f5d-23be-4dbc-a338-7a1c05b5046e",
   "metadata": {},
   "outputs": [
    {
     "data": {
      "text/plain": [
       "Card(account=2)"
      ]
     },
     "execution_count": 85,
     "metadata": {},
     "output_type": "execute_result"
    }
   ],
   "source": [
    "def find_majority_elem(cards: list):\n",
    "    # half amount\n",
    "    n_half = len(cards)//2\n",
    "    \n",
    "    # base case : 1 card is always majority\n",
    "    if (len(cards) == 1):\n",
    "        return cards[0]\n",
    "    \n",
    "    # left-side    \n",
    "    left = cards[:n_half]\n",
    "    majority_left = find_majority_elem(left)\n",
    "    \n",
    "    # right-side\n",
    "    right = cards[n_half:]\n",
    "    majority_right = find_majority_elem(right)\n",
    "    \n",
    "    # both majorities are same : return majority\n",
    "    if (majority_left == majority_right):\n",
    "        return majority_left\n",
    "    \n",
    "    # majority_left : x | majority_right : None\n",
    "    elif (majority_left is not None and \\\n",
    "             majority_right is None):\n",
    "        \n",
    "        # Determine if majority_left is majority overall O(n) and return\n",
    "        occurances = count_matches(majority_left, cards)\n",
    "        return majority_left if occurances > n_half else None\n",
    "        \n",
    "    # majority_left : None | majority_right : x\n",
    "    elif (majority_left is None and \\\n",
    "             majority_right is not None):\n",
    "        \n",
    "        # Determine if majority_right is majority overall O(n)\n",
    "        occurances = count_matches(majority_right, cards)\n",
    "        return majority_right if occurances > n_half else None\n",
    "        \n",
    "    # both none\n",
    "    elif (majority_left is None and \\\n",
    "             majority_right is None):\n",
    "        \n",
    "        # no majorities either side, return None\n",
    "        return None\n",
    "    \n",
    "    # values are different, test which is majority\n",
    "    else:\n",
    "        \n",
    "        # Check how many matches left\n",
    "        occurances_left = count_matches(majority_left, cards)\n",
    "        \n",
    "        # Check how many matches right\n",
    "        occurances_right = count_matches(majority_right, cards)\n",
    "        \n",
    "        # Match largest | Aribtrary: return left if equal\n",
    "        occurances = max(occurances_left, occurances_right)\n",
    "        majority = majority_left if occurances_left >= occurances_right else majority_right\n",
    "        \n",
    "        # Return if we have a majority\n",
    "        return majority if occurances > n_half else None\n",
    "        \n",
    "\n",
    "find_majority_elem(cards)"
   ]
  },
  {
   "cell_type": "markdown",
   "id": "2b91477d-ab25-45b2-b252-4a5213e9f872",
   "metadata": {},
   "source": [
    "# Hidden Surface Problem"
   ]
  },
  {
   "cell_type": "code",
   "execution_count": 66,
   "id": "fa9217a2-9e7b-418d-a93c-832784c51b91",
   "metadata": {},
   "outputs": [
    {
     "data": {
      "text/latex": [
       "$x \\mapsto \\text{1.0} + \\text{2.0}\\,x$"
      ],
      "text/plain": [
       "Polynomial([1., 2.], domain=[-1,  1], window=[-1,  1])"
      ]
     },
     "execution_count": 66,
     "metadata": {},
     "output_type": "execute_result"
    }
   ],
   "source": [
    "# Setup points\n",
    "points = [ \n",
    "    Point(0, 0),\n",
    "    Point(0, 2),\n",
    "    Point(1, 4),\n",
    "    Point(1, 5),\n",
    "]\n",
    "\n",
    "lines = [\n",
    "    Line\n",
    "]"
   ]
  },
  {
   "cell_type": "code",
   "execution_count": null,
   "id": "6fcf7514-e77f-4099-b66a-f9243a892693",
   "metadata": {},
   "outputs": [],
   "source": [
    "# find intercept between two polynomials\n"
   ]
  },
  {
   "cell_type": "code",
   "execution_count": 80,
   "id": "64b90f85-bcab-4b2d-ac06-23a2bf4ebeb1",
   "metadata": {},
   "outputs": [
    {
     "name": "stdout",
     "output_type": "stream",
     "text": [
      "[Point2D(1, 1)]\n"
     ]
    },
    {
     "ename": "TypeError",
     "evalue": "'NoneType' object is not iterable",
     "output_type": "error",
     "traceback": [
      "\u001b[0;31m---------------------------------------------------------------------------\u001b[0m",
      "\u001b[0;31mTypeError\u001b[0m                                 Traceback (most recent call last)",
      "Cell \u001b[0;32mIn [80], line 10\u001b[0m\n\u001b[1;32m      6\u001b[0m showIntersection \u001b[38;5;241m=\u001b[39m l1\u001b[38;5;241m.\u001b[39mintersection(l2)\n\u001b[1;32m      8\u001b[0m \u001b[38;5;28mprint\u001b[39m(showIntersection)\n\u001b[0;32m---> 10\u001b[0m \u001b[43mplot\u001b[49m\u001b[43m(\u001b[49m\u001b[43m[\u001b[49m\u001b[43ml1\u001b[49m\u001b[43m]\u001b[49m\u001b[43m)\u001b[49m\n",
      "File \u001b[0;32m/opt/conda/lib/python3.10/site-packages/sympy/plotting/plot.py:1869\u001b[0m, in \u001b[0;36mplot\u001b[0;34m(show, *args, **kwargs)\u001b[0m\n\u001b[1;32m   1867\u001b[0m series \u001b[38;5;241m=\u001b[39m []\n\u001b[1;32m   1868\u001b[0m plot_expr \u001b[38;5;241m=\u001b[39m check_arguments(args, \u001b[38;5;241m1\u001b[39m, \u001b[38;5;241m1\u001b[39m)\n\u001b[0;32m-> 1869\u001b[0m series \u001b[38;5;241m=\u001b[39m [LineOver1DRangeSeries(\u001b[38;5;241m*\u001b[39marg, \u001b[38;5;241m*\u001b[39m\u001b[38;5;241m*\u001b[39mkwargs) \u001b[38;5;28;01mfor\u001b[39;00m arg \u001b[38;5;129;01min\u001b[39;00m plot_expr]\n\u001b[1;32m   1871\u001b[0m plots \u001b[38;5;241m=\u001b[39m Plot(\u001b[38;5;241m*\u001b[39mseries, \u001b[38;5;241m*\u001b[39m\u001b[38;5;241m*\u001b[39mkwargs)\n\u001b[1;32m   1872\u001b[0m \u001b[38;5;28;01mif\u001b[39;00m show:\n",
      "\u001b[0;31mTypeError\u001b[0m: 'NoneType' object is not iterable"
     ]
    }
   ],
   "source": [
    "  \n",
    "p1, p2, p3 = Point(0, 0), Point(1, 1), Point(7, 7)\n",
    "l1 = Line(p1, p2)\n",
    "l2 = Line(p2, Point(0,100))\n",
    "  \n",
    "# using intersection() method\n",
    "showIntersection = l1.intersection(l2)\n",
    "  \n",
    "print(showIntersection)\n",
    "\n",
    "plot([l1])\n",
    "# plt.plot(l1[0], )"
   ]
  },
  {
   "cell_type": "code",
   "execution_count": 83,
   "id": "5e1a1577-a254-4e05-9054-145ee4e78fa1",
   "metadata": {},
   "outputs": [
    {
     "data": {
      "text/plain": [
       "(Point2D(0, 0), Point2D(1, 1))"
      ]
     },
     "execution_count": 83,
     "metadata": {},
     "output_type": "execute_result"
    }
   ],
   "source": [
    "l1.points"
   ]
  },
  {
   "cell_type": "code",
   "execution_count": 82,
   "id": "dd9a16bc-2b36-4e39-86ce-9f4d09ee9467",
   "metadata": {},
   "outputs": [
    {
     "ename": "ValueError",
     "evalue": "Expected an expression, given Point2D(0, 0)",
     "output_type": "error",
     "traceback": [
      "\u001b[0;31m---------------------------------------------------------------------------\u001b[0m",
      "\u001b[0;31mValueError\u001b[0m                                Traceback (most recent call last)",
      "Cell \u001b[0;32mIn [82], line 1\u001b[0m\n\u001b[0;32m----> 1\u001b[0m \u001b[43mplot\u001b[49m\u001b[43m(\u001b[49m\u001b[43ml1\u001b[49m\u001b[38;5;241;43m.\u001b[39;49m\u001b[43mpoints\u001b[49m\u001b[43m)\u001b[49m\n",
      "File \u001b[0;32m/opt/conda/lib/python3.10/site-packages/sympy/plotting/plot.py:1868\u001b[0m, in \u001b[0;36mplot\u001b[0;34m(show, *args, **kwargs)\u001b[0m\n\u001b[1;32m   1866\u001b[0m kwargs\u001b[38;5;241m.\u001b[39msetdefault(\u001b[38;5;124m'\u001b[39m\u001b[38;5;124mylabel\u001b[39m\u001b[38;5;124m'\u001b[39m, Function(\u001b[38;5;124m'\u001b[39m\u001b[38;5;124mf\u001b[39m\u001b[38;5;124m'\u001b[39m)(x))\n\u001b[1;32m   1867\u001b[0m series \u001b[38;5;241m=\u001b[39m []\n\u001b[0;32m-> 1868\u001b[0m plot_expr \u001b[38;5;241m=\u001b[39m \u001b[43mcheck_arguments\u001b[49m\u001b[43m(\u001b[49m\u001b[43margs\u001b[49m\u001b[43m,\u001b[49m\u001b[43m \u001b[49m\u001b[38;5;241;43m1\u001b[39;49m\u001b[43m,\u001b[49m\u001b[43m \u001b[49m\u001b[38;5;241;43m1\u001b[39;49m\u001b[43m)\u001b[49m\n\u001b[1;32m   1869\u001b[0m series \u001b[38;5;241m=\u001b[39m [LineOver1DRangeSeries(\u001b[38;5;241m*\u001b[39marg, \u001b[38;5;241m*\u001b[39m\u001b[38;5;241m*\u001b[39mkwargs) \u001b[38;5;28;01mfor\u001b[39;00m arg \u001b[38;5;129;01min\u001b[39;00m plot_expr]\n\u001b[1;32m   1871\u001b[0m plots \u001b[38;5;241m=\u001b[39m Plot(\u001b[38;5;241m*\u001b[39mseries, \u001b[38;5;241m*\u001b[39m\u001b[38;5;241m*\u001b[39mkwargs)\n",
      "File \u001b[0;32m/opt/conda/lib/python3.10/site-packages/sympy/plotting/plot.py:2631\u001b[0m, in \u001b[0;36mcheck_arguments\u001b[0;34m(args, expr_len, nb_of_free_symbols)\u001b[0m\n\u001b[1;32m   2629\u001b[0m \u001b[38;5;28;01mfor\u001b[39;00m i \u001b[38;5;129;01min\u001b[39;00m \u001b[38;5;28mrange\u001b[39m(expr_len):\n\u001b[1;32m   2630\u001b[0m     \u001b[38;5;28;01mif\u001b[39;00m \u001b[38;5;129;01mnot\u001b[39;00m \u001b[38;5;28misinstance\u001b[39m(arg[i], Expr):\n\u001b[0;32m-> 2631\u001b[0m         \u001b[38;5;28;01mraise\u001b[39;00m \u001b[38;5;167;01mValueError\u001b[39;00m(\u001b[38;5;124m\"\u001b[39m\u001b[38;5;124mExpected an expression, given \u001b[39m\u001b[38;5;132;01m%s\u001b[39;00m\u001b[38;5;124m\"\u001b[39m \u001b[38;5;241m%\u001b[39m\n\u001b[1;32m   2632\u001b[0m                          \u001b[38;5;28mstr\u001b[39m(arg[i]))\n\u001b[1;32m   2633\u001b[0m \u001b[38;5;28;01mfor\u001b[39;00m i \u001b[38;5;129;01min\u001b[39;00m \u001b[38;5;28mrange\u001b[39m(nb_of_free_symbols):\n\u001b[1;32m   2634\u001b[0m     \u001b[38;5;28;01mif\u001b[39;00m \u001b[38;5;129;01mnot\u001b[39;00m \u001b[38;5;28mlen\u001b[39m(arg[i \u001b[38;5;241m+\u001b[39m expr_len]) \u001b[38;5;241m==\u001b[39m \u001b[38;5;241m3\u001b[39m:\n",
      "\u001b[0;31mValueError\u001b[0m: Expected an expression, given Point2D(0, 0)"
     ]
    }
   ],
   "source": [
    "plot(l1.points)"
   ]
  }
 ],
 "metadata": {
  "kernelspec": {
   "display_name": "Python 3 (ipykernel)",
   "language": "python",
   "name": "python3"
  },
  "language_info": {
   "codemirror_mode": {
    "name": "ipython",
    "version": 3
   },
   "file_extension": ".py",
   "mimetype": "text/x-python",
   "name": "python",
   "nbconvert_exporter": "python",
   "pygments_lexer": "ipython3",
   "version": "3.10.6"
  }
 },
 "nbformat": 4,
 "nbformat_minor": 5
}
