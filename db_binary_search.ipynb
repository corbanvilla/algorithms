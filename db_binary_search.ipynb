{
 "cells": [
  {
   "cell_type": "code",
   "execution_count": 1,
   "id": "59d45b86-e0e2-4fa9-ba0d-9ddd56d94d2c",
   "metadata": {},
   "outputs": [],
   "source": [
    "import numpy as np"
   ]
  },
  {
   "cell_type": "code",
   "execution_count": 137,
   "id": "6f0790d1-59e4-43b4-bd28-d73f06eb7adf",
   "metadata": {},
   "outputs": [
    {
     "data": {
      "text/plain": [
       "array([83,  1, 45, 27, 11, 74, 47, 85,  2, 23])"
      ]
     },
     "execution_count": 137,
     "metadata": {},
     "output_type": "execute_result"
    }
   ],
   "source": [
    "np.random.randint(0, 100, 10)"
   ]
  },
  {
   "cell_type": "code",
   "execution_count": 116,
   "id": "a6995be1-3016-4970-a7b5-cd4a029e233c",
   "metadata": {},
   "outputs": [],
   "source": [
    "class DB:\n",
    "    \n",
    "    elements: list\n",
    "    _elements_sorted: list\n",
    "    \n",
    "    def __init__(self, items):\n",
    "        self.elements = items\n",
    "        self._elements_sorted = items.copy()\n",
    "        self._elements_sorted.sort()\n",
    "        \n",
    "    def query(self, kth):\n",
    "        \"\"\"\n",
    "        Returns the kth-smallest element\n",
    "        \"\"\"\n",
    "        return self._elements_sorted[kth]\n",
    "    \n",
    "    def __repr__(self):\n",
    "        return f'DB({len(self.elements)} elements)'\n",
    "    \n",
    "    def __len__(self):\n",
    "        return len(self.elements)"
   ]
  },
  {
   "cell_type": "code",
   "execution_count": 117,
   "id": "b7578514-4790-41c8-813e-a7d7e402307f",
   "metadata": {},
   "outputs": [
    {
     "data": {
      "text/plain": [
       "(DB(128 elements), DB(128 elements))"
      ]
     },
     "execution_count": 117,
     "metadata": {},
     "output_type": "execute_result"
    }
   ],
   "source": [
    "# 100 elements per db\n",
    "n = 128\n",
    "all_numbers = set()\n",
    "while len(all_numbers) != n * 2:\n",
    "    all_numbers.add(np.random.randint(0, 500))\n",
    "\n",
    "all_numbers = list(all_numbers)\n",
    "\n",
    "# distrib_nums = all_numbers.copy()\n",
    "# create random num distribution\n",
    "\n",
    "\n",
    "# setup databases\n",
    "db1 = DB(all_numbers[:n])\n",
    "db2 = DB(all_numbers[n:])\n",
    "db1, db2"
   ]
  },
  {
   "cell_type": "code",
   "execution_count": 141,
   "id": "d67993cb-507c-4360-9b0a-5406fc9413e7",
   "metadata": {},
   "outputs": [
    {
     "data": {
      "text/plain": [
       "248"
      ]
     },
     "execution_count": 141,
     "metadata": {},
     "output_type": "execute_result"
    }
   ],
   "source": [
    "# binary search O(logn)\n",
    "def binary_search(db1, db2):\n",
    "    \n",
    "    n = len(db1)\n",
    "    n_half = n//2\n",
    "    \n",
    "    db_1_cursor = n_half\n",
    "    db_2_cursor = n_half\n",
    "    cursor_increment = n_half // 2\n",
    "    \n",
    "    while(cursor_increment >= 1):\n",
    "        # print(f'Searching db1={db_1_cursor} | db2={db_2_cursor}') \n",
    "    \n",
    "        med1 = db1.query(db_1_cursor)\n",
    "        med2 = db2.query(db_2_cursor)\n",
    "        \n",
    "        if med1 < med2:\n",
    "            db_1_cursor += int(cursor_increment)\n",
    "            db_2_cursor -= int(cursor_increment)\n",
    "        elif med1 > med2:\n",
    "            db_1_cursor -= int(cursor_increment)\n",
    "            db_2_cursor += int(cursor_increment)\n",
    "        else:\n",
    "            # this should never happen (no duplicate numbers)\n",
    "            assert(False)\n",
    "            \n",
    "        # decrement cursor\n",
    "        cursor_increment *= 0.5\n",
    "        # print(f'New cursor: {cursor_increment}')\n",
    "    \n",
    "    # print(f'Searching last: db1={db_1_cursor} | db2={db_2_cursor}')\n",
    "    med1 = db1.query(db_1_cursor)\n",
    "    med2 = db2.query(db_2_cursor)\n",
    "    \n",
    "    return min(med1, med2)\n",
    "    \n",
    "binary_search(db1, db2)"
   ]
  }
 ],
 "metadata": {
  "kernelspec": {
   "display_name": "Python 3 (ipykernel)",
   "language": "python",
   "name": "python3"
  },
  "language_info": {
   "codemirror_mode": {
    "name": "ipython",
    "version": 3
   },
   "file_extension": ".py",
   "mimetype": "text/x-python",
   "name": "python",
   "nbconvert_exporter": "python",
   "pygments_lexer": "ipython3",
   "version": "3.10.6"
  }
 },
 "nbformat": 4,
 "nbformat_minor": 5
}
