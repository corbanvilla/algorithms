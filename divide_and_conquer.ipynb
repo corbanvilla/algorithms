{
 "cells": [
  {
   "cell_type": "code",
   "execution_count": 63,
   "id": "13b1e72c-90f3-4f2d-b66b-d0dd76bb2539",
   "metadata": {},
   "outputs": [],
   "source": [
    "%matplotlib inline\n",
    "\n",
    "import matplotlib.pyplot as plt"
   ]
  },
  {
   "cell_type": "code",
   "execution_count": 105,
   "id": "79ea5a6d-ac3d-45ce-92de-718f9256f3c7",
   "metadata": {},
   "outputs": [],
   "source": [
    "import math\n",
    "from math import floor, ceil, sqrt"
   ]
  },
  {
   "cell_type": "markdown",
   "id": "ca81485f-07e8-4f41-b806-7626284ef427",
   "metadata": {},
   "source": [
    "# Custom Infinity Object"
   ]
  },
  {
   "cell_type": "code",
   "execution_count": 52,
   "id": "dabb99a2-0e72-4be0-88a4-8fdab79578e0",
   "metadata": {},
   "outputs": [],
   "source": [
    "class Infinity:\n",
    "    def __lt__(self, other):\n",
    "        if (isinstance(other, Infinity)):\n",
    "            raise TypeError(\"Cannot compare two infinities!\")\n",
    "        \n",
    "        return False\n",
    "    def __gt__(self, other):\n",
    "        if (isinstance(other, Infinity)):\n",
    "            raise TypeError(\"Cannot compare two infinities!\")\n",
    "        \n",
    "        return True"
   ]
  },
  {
   "cell_type": "markdown",
   "id": "69b6d6fb-c970-4e89-b732-e2156849a38e",
   "metadata": {},
   "source": [
    "# Merge Sort"
   ]
  },
  {
   "cell_type": "code",
   "execution_count": 14,
   "id": "03eabda3-d5a5-4aed-9ee5-90f03368d220",
   "metadata": {},
   "outputs": [
    {
     "data": {
      "text/plain": [
       "[8, 7, 6, 5, 4, 3, 2, 1]"
      ]
     },
     "execution_count": 14,
     "metadata": {},
     "output_type": "execute_result"
    }
   ],
   "source": [
    "unordered_list = [8, 7, 6, 5, 4, 3, 2, 1]\n",
    "unordered_list"
   ]
  },
  {
   "cell_type": "code",
   "execution_count": 62,
   "id": "ea957ba1-511e-4ebf-a9bb-08c6e4561f3d",
   "metadata": {},
   "outputs": [
    {
     "data": {
      "text/plain": [
       "[1, 2, 3, 4, 5, 6, 7, 8]"
      ]
     },
     "execution_count": 62,
     "metadata": {},
     "output_type": "execute_result"
    }
   ],
   "source": [
    "def merge_sort(array: list):\n",
    "    # Base case\n",
    "    if (len(array) == 1):\n",
    "        return array\n",
    "    \n",
    "    if (len(array) == 2):\n",
    "        if (array[0] > array[1]):\n",
    "            # Requires swap\n",
    "            return [array[1], array[0]]\n",
    "        # Already sorted\n",
    "        return array\n",
    "    \n",
    "    # Divide\n",
    "    split_index = floor(len(array) / 2)\n",
    "    half_1 = merge_sort(array[0:split_index])\n",
    "    half_2 = merge_sort(array[split_index:])\n",
    "    \n",
    "    # Merge back together\n",
    "    sorted = []\n",
    "    while(half_1 or half_2):       \n",
    "        next_half_1 = half_1[0] if half_1 else Infinity()\n",
    "        next_half_2 = half_2[0] if half_2 else Infinity()\n",
    "        \n",
    "        if (next_half_1 < next_half_2):\n",
    "            sorted.append(next_half_1)\n",
    "            half_1.remove(next_half_1)\n",
    "        else:\n",
    "            sorted.append(next_half_2)\n",
    "            half_2.remove(next_half_2)\n",
    "    \n",
    "    return sorted\n",
    "\n",
    "\n",
    "sorted = merge_sort(unordered_list)\n",
    "sorted"
   ]
  },
  {
   "cell_type": "markdown",
   "id": "a3516bb6-531d-40b6-8918-5566b6c48a4d",
   "metadata": {},
   "source": [
    "# Closest Pair"
   ]
  },
  {
   "cell_type": "code",
   "execution_count": 80,
   "id": "02aa1964-b2fd-40d7-b4c1-76c3ff1a995f",
   "metadata": {},
   "outputs": [],
   "source": [
    "coord = [[1, 1], [2, 3], [4, 1], [2,2], [7,2], [9,8]]\n",
    "xs, ys = zip(*coord) #create lists of x and y values"
   ]
  },
  {
   "cell_type": "code",
   "execution_count": 93,
   "id": "b778efdd-f859-45e8-8ca1-a31726c3ef7f",
   "metadata": {},
   "outputs": [],
   "source": [
    "# Step 1 : sort by our x's, get the median\n",
    "coord.sort(key=lambda i: i[0])\n",
    "\n",
    "# Find closest pair on both sides"
   ]
  },
  {
   "cell_type": "code",
   "execution_count": 151,
   "id": "f5494923-300e-41a6-acd8-616e0f877037",
   "metadata": {},
   "outputs": [
    {
     "name": "stdout",
     "output_type": "stream",
     "text": [
      "found closest pair candidate: [2, 3]->[2, 2] @ 1.0\n"
     ]
    },
    {
     "data": {
      "text/plain": [
       "{'[1, 1]->[2, 3]': 2.23606797749979,\n",
       " '[1, 1]->[2, 2]': 1.4142135623730951,\n",
       " '[2, 3]->[2, 2]': 1.0,\n",
       " '[4, 1]->[7, 2]': 3.1622776601683795,\n",
       " '[4, 1]->[9, 8]': 8.602325267042627,\n",
       " '[7, 2]->[9, 8]': 6.324555320336759}"
      ]
     },
     "execution_count": 151,
     "metadata": {},
     "output_type": "execute_result"
    }
   ],
   "source": [
    "distances = {}\n",
    "def find_closest_pair(sorted_coords: list):\n",
    "    \n",
    "    # Base Case\n",
    "    if (len(sorted_coords) <= 3):\n",
    "        distances_local = {}\n",
    "        # If we have 3 points, we don't want to get any smaller\n",
    "        # do n^2 search\n",
    "        for point1 in sorted_coords:\n",
    "            for point2 in sorted_coords:              \n",
    "                # Don't check same point against itself\n",
    "                if point1 == point2:\n",
    "                    continue\n",
    "                    \n",
    "                # If we've already checked the reverse\n",
    "                if distances_local.get(f'{point2}->{point1}'):\n",
    "                    continue\n",
    "                    \n",
    "                # Distance formula\n",
    "                (x1, y1), (x2, y2) = (point1), (point2)\n",
    "                \n",
    "                distances_local[f'{point1}->{point2}'] = sqrt((x2-x1)**2 + (y2-y1)**2)\n",
    "        \n",
    "        return distances_local\n",
    "    \n",
    "    # Divide and conquer\n",
    "    med = floor(len(coord)/2)\n",
    "    dist_left = find_closest_pair(sorted_coords[0:med]) # first find left\n",
    "    dist_right = find_closest_pair(sorted_coords[med:]) # next find right\n",
    "    \n",
    "    all_dists = dist_left | dist_right\n",
    "    \n",
    "    # Find min distance\n",
    "    closest_pair, closest_pair_dist = min(iter(all_dists.items()), key=lambda i: i[1])\n",
    "    print(f'found closest pair candidate: {closest_pair} @ {closest_pair_dist}')\n",
    "    \n",
    "    closest_pair_dist_half = closest_pair_dist / 2\n",
    "    \n",
    "    # Ensure no closer points cross l\n",
    "    # filter all where x not more than closest_pair_dist/2 \n",
    "    checks = filter(sorted_coords, key=lambda i: abs(i[0] -  < closest_pair_dist_half\n",
    "    \n",
    "    \n",
    "    return all_dists\n",
    "\n",
    "find_closest_pair(coord)"
   ]
  },
  {
   "cell_type": "code",
   "execution_count": 152,
   "id": "c38e33e2-cb22-45e8-a2d5-190c7e2235c4",
   "metadata": {},
   "outputs": [
    {
     "data": {
      "text/plain": [
       "<function abs(x, /)>"
      ]
     },
     "execution_count": 152,
     "metadata": {},
     "output_type": "execute_result"
    }
   ],
   "source": []
  },
  {
   "cell_type": "code",
   "execution_count": null,
   "id": "67717baf-12d6-4e5a-9a32-18ca2342e08f",
   "metadata": {},
   "outputs": [],
   "source": []
  },
  {
   "cell_type": "markdown",
   "id": "90f341ea-bd54-4d9c-8db4-be62b8378080",
   "metadata": {},
   "source": [
    "### Plot"
   ]
  },
  {
   "cell_type": "code",
   "execution_count": 78,
   "id": "08e6dd3c-ab8c-42e9-9e25-ce4107ed652b",
   "metadata": {},
   "outputs": [
    {
     "data": {
      "text/plain": [
       "<matplotlib.collections.PathCollection at 0x7f9bf99ff3d0>"
      ]
     },
     "execution_count": 78,
     "metadata": {},
     "output_type": "execute_result"
    },
    {
     "data": {
      "image/png": "[encoded data removed]",
      "text/plain": [
       "<Figure size 640x480 with 1 Axes>"
      ]
     },
     "metadata": {},
     "output_type": "display_data"
    }
   ],
   "source": [
    "plt.scatter(xs,ys)"
   ]
  },
  {
   "cell_type": "markdown",
   "id": "4047b5ad-2849-4416-bed9-7bcafaf65de3",
   "metadata": {},
   "source": [
    "# Integer Multiplication"
   ]
  },
  {
   "cell_type": "code",
   "execution_count": 203,
   "id": "8a132874-75a9-46d4-b05d-995b82664e1b",
   "metadata": {},
   "outputs": [
    {
     "data": {
      "text/plain": [
       "355823"
      ]
     },
     "execution_count": 203,
     "metadata": {},
     "output_type": "execute_result"
    }
   ],
   "source": [
    "def int_multiply(num1, num2):\n",
    "    \n",
    "    if (num1 < 10 or num2 < 10):\n",
    "        return num1*num2\n",
    "   \n",
    "    # digits count\n",
    "    n = max(len(str(num1)), len(str(num2)))\n",
    "    n_half = n // 2\n",
    "    \n",
    "    # a, b | c, d\n",
    "    a = num1 // (10**n_half)\n",
    "    b = num1 % (10**n_half)\n",
    "    c = num2 // (10**n_half)\n",
    "    d = num2 % (10**n_half)\n",
    "    \n",
    "    ac = int_multiply(a, c)\n",
    "    bd = int_multiply(b, d)\n",
    "    ad_plus_bc = int_multiply(a+b, c+d) - ac - bd\n",
    "    \n",
    "    return ac * 10**(2*n_half) + (ad_plus_bc)*10**(n_half) + bd\n",
    "    \n",
    "    \n",
    "int_multiply(1313, 271)"
   ]
  },
  {
   "cell_type": "markdown",
   "id": "99fc2b65-d0c7-4878-8367-65207fc50b65",
   "metadata": {},
   "source": [
    "# Fast Fourier Transform"
   ]
  },
  {
   "cell_type": "code",
   "execution_count": 205,
   "id": "99d7fe13-0260-4b7d-8d19-e6a83600ea66",
   "metadata": {},
   "outputs": [],
   "source": [
    "from numpy.polynomial import Polynomial as P"
   ]
  },
  {
   "cell_type": "code",
   "execution_count": 255,
   "id": "f2696cca-6fa0-404c-b97a-4d2342a3ae70",
   "metadata": {},
   "outputs": [],
   "source": [
    "import numpy as np"
   ]
  },
  {
   "cell_type": "code",
   "execution_count": 384,
   "id": "8f13ecc7-c346-48c6-87a6-e4bc277d9824",
   "metadata": {},
   "outputs": [],
   "source": [
    "from sympy import sin, cos, pi, N"
   ]
  },
  {
   "cell_type": "code",
   "execution_count": 306,
   "id": "973591d5-6283-49d0-817a-78e3681dcd3a",
   "metadata": {},
   "outputs": [],
   "source": [
    "import json"
   ]
  },
  {
   "cell_type": "markdown",
   "id": "e9e02856-f596-463a-b2de-859f5cddb556",
   "metadata": {},
   "source": [
    "### Define Polynomial"
   ]
  },
  {
   "cell_type": "code",
   "execution_count": 280,
   "id": "40fdfe1f-9813-475d-a556-b13613f160e2",
   "metadata": {},
   "outputs": [
    {
     "data": {
      "text/latex": [
       "$x \\mapsto \\text{-1.0} - \\text{2.0}\\,x + \\text{2.0}\\,x^{2} + \\text{1.0}\\,x^{3}$"
      ],
      "text/plain": [
       "Polynomial([-1., -2.,  2.,  1.], domain=[-1,  1], window=[-1,  1])"
      ]
     },
     "execution_count": 280,
     "metadata": {},
     "output_type": "execute_result"
    }
   ],
   "source": [
    "p = P([-1, -2, 2, 1])\n",
    "p"
   ]
  },
  {
   "cell_type": "markdown",
   "id": "6d246730-48f7-42ff-91a2-378dc675ad59",
   "metadata": {},
   "source": [
    "### Split into Aeven, Aodd"
   ]
  },
  {
   "cell_type": "code",
   "execution_count": 441,
   "id": "d85ba2b9-2ee6-4692-9cf5-7b585c725517",
   "metadata": {},
   "outputs": [
    {
     "data": {
      "text/plain": [
       "(Polynomial([-1.,  2.], domain=[-1,  1], window=[-1,  1]),\n",
       " Polynomial([-2.,  1.], domain=[-1,  1], window=[-1,  1]))"
      ]
     },
     "execution_count": 441,
     "metadata": {},
     "output_type": "execute_result"
    }
   ],
   "source": [
    "def split_even_odd(p: P) -> (P, P):\n",
    "    coefs = list(p)\n",
    "    even = []\n",
    "    odd = []\n",
    "    \n",
    "    # Assume poly is log2\n",
    "    for i in range(0, len(p), 2):\n",
    "        even.append(coefs[i])\n",
    "        odd.append(coefs[i+1])\n",
    "        \n",
    "    return P(even), P(odd)\n",
    "\n",
    "# Includes pulling out x^2\n",
    "split_even_odd(p)"
   ]
  },
  {
   "cell_type": "markdown",
   "id": "482af484-6f2d-496a-8f7f-2a3d941d154d",
   "metadata": {},
   "source": [
    "### Choose Points"
   ]
  },
  {
   "cell_type": "code",
   "execution_count": 389,
   "id": "e9dbc9d1-6972-4b73-b357-d4e81a5e22d3",
   "metadata": {},
   "outputs": [
    {
     "data": {
      "text/plain": [
       "[1, 1.0*I, -1, -1.0*I]"
      ]
     },
     "execution_count": 389,
     "metadata": {},
     "output_type": "execute_result"
    }
   ],
   "source": [
    "def choose_points(n: int) -> list:\n",
    "    # e^(2pi*i)\n",
    "    rotation = pi * (2 / n)\n",
    "    \n",
    "    # calc n points\n",
    "    # TODO - invert (x + y), only calc half circle\n",
    "    points = []\n",
    "    for point in range(0, n):\n",
    "        angle = rotation * point\n",
    "        w = cos(angle) + 1j * sin(angle)        \n",
    "        points.append(w)\n",
    "    \n",
    "    return points\n",
    "    \n",
    "choose_points(4)"
   ]
  },
  {
   "cell_type": "markdown",
   "id": "75481a9c-0441-4e7c-80e4-8c393451b2fd",
   "metadata": {},
   "source": [
    "### Fast Fourier Transform"
   ]
  },
  {
   "cell_type": "code",
   "execution_count": 440,
   "id": "addaae98-7c25-4e4b-b9c0-0859f7d6c5dc",
   "metadata": {},
   "outputs": [
    {
     "data": {
      "text/plain": [
       "[0, -3.0 - 3.0*I, 2.00000000000000, -3.0 + 3.0*I]"
      ]
     },
     "execution_count": 440,
     "metadata": {},
     "output_type": "execute_result"
    }
   ],
   "source": [
    "def fft(p: P) -> list:  \n",
    "    # degree + 1\n",
    "    n = len(p)\n",
    "    n_half = n//2\n",
    "    \n",
    "    # Base case\n",
    "    if n == 1:\n",
    "        return list(p)\n",
    "        \n",
    "    # Get Aeven, Aodd, and recurse\n",
    "    Aeven, Aodd = split_even_odd(p)\n",
    "    # print(f'Even: {Aeven} | Odd: {Aodd}')\n",
    "    Aeven_eval = fft(Aeven)\n",
    "    Aodd_eval  = fft(Aodd)\n",
    "    \n",
    "    # Determine what points we need to calculate\n",
    "    all_points = choose_points(n)\n",
    "        \n",
    "    # Calculate polynomial at these points\n",
    "    p_eval = [0 for _ in range(0, n)]\n",
    "    for i in range(0, n_half):\n",
    "        w = all_points[i]\n",
    "        \n",
    "        p_eval[i] = \\\n",
    "            N(Aeven_eval[i] + w * Aodd_eval[i])\n",
    "        \n",
    "        p_eval[i + n_half] = \\\n",
    "            N(Aeven_eval[i] - w * Aodd_eval[i])\n",
    "        \n",
    "    return p_eval\n",
    "    \n",
    "# fft(P([1,2,3,6]))\n",
    "fft(p)"
   ]
  }
 ],
 "metadata": {
  "kernelspec": {
   "display_name": "Python 3 (ipykernel)",
   "language": "python",
   "name": "python3"
  },
  "language_info": {
   "codemirror_mode": {
    "name": "ipython",
    "version": 3
   },
   "file_extension": ".py",
   "mimetype": "text/x-python",
   "name": "python",
   "nbconvert_exporter": "python",
   "pygments_lexer": "ipython3",
   "version": "3.10.6"
  }
 },
 "nbformat": 4,
 "nbformat_minor": 5
}
